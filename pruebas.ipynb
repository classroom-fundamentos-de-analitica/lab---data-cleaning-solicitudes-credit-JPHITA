{
 "cells": [
  {
   "cell_type": "code",
   "execution_count": 157,
   "metadata": {},
   "outputs": [],
   "source": [
    "import pandas as pd\n",
    "import numpy as np"
   ]
  },
  {
   "cell_type": "code",
   "execution_count": 158,
   "metadata": {},
   "outputs": [],
   "source": [
    "df = pd.read_csv(\"solicitudes_credito.csv\", sep=\";\")\n",
    "df.drop(columns=\"Unnamed: 0\", inplace=True)"
   ]
  },
  {
   "cell_type": "code",
   "execution_count": 159,
   "metadata": {},
   "outputs": [
    {
     "data": {
      "text/html": [
       "<div>\n",
       "<style scoped>\n",
       "    .dataframe tbody tr th:only-of-type {\n",
       "        vertical-align: middle;\n",
       "    }\n",
       "\n",
       "    .dataframe tbody tr th {\n",
       "        vertical-align: top;\n",
       "    }\n",
       "\n",
       "    .dataframe thead th {\n",
       "        text-align: right;\n",
       "    }\n",
       "</style>\n",
       "<table border=\"1\" class=\"dataframe\">\n",
       "  <thead>\n",
       "    <tr style=\"text-align: right;\">\n",
       "      <th></th>\n",
       "      <th>sexo</th>\n",
       "      <th>tipo_de_emprendimiento</th>\n",
       "      <th>idea_negocio</th>\n",
       "      <th>barrio</th>\n",
       "      <th>estrato</th>\n",
       "      <th>comuna_ciudadano</th>\n",
       "      <th>fecha_de_beneficio</th>\n",
       "      <th>monto_del_credito</th>\n",
       "      <th>línea_credito</th>\n",
       "    </tr>\n",
       "  </thead>\n",
       "  <tbody>\n",
       "    <tr>\n",
       "      <th>0</th>\n",
       "      <td>masculino</td>\n",
       "      <td>COMERCIO</td>\n",
       "      <td>charcuteria</td>\n",
       "      <td>manrique central no. 2</td>\n",
       "      <td>1</td>\n",
       "      <td>3.0</td>\n",
       "      <td>28/12/2017</td>\n",
       "      <td>7000000</td>\n",
       "      <td>microempresarial</td>\n",
       "    </tr>\n",
       "    <tr>\n",
       "      <th>1</th>\n",
       "      <td>masculino</td>\n",
       "      <td>comercio</td>\n",
       "      <td>distribuidora de</td>\n",
       "      <td>santa lucia</td>\n",
       "      <td>2</td>\n",
       "      <td>12.0</td>\n",
       "      <td>16/03/2018</td>\n",
       "      <td>$ 7,000,000.00</td>\n",
       "      <td>microempresarial</td>\n",
       "    </tr>\n",
       "    <tr>\n",
       "      <th>2</th>\n",
       "      <td>masculino</td>\n",
       "      <td>comercio</td>\n",
       "      <td>tienda</td>\n",
       "      <td>belen</td>\n",
       "      <td>3</td>\n",
       "      <td>16.0</td>\n",
       "      <td>2018/02/14</td>\n",
       "      <td>7800000</td>\n",
       "      <td>microempresarial</td>\n",
       "    </tr>\n",
       "    <tr>\n",
       "      <th>3</th>\n",
       "      <td>masculino</td>\n",
       "      <td>servicio</td>\n",
       "      <td>organización y</td>\n",
       "      <td>robledo</td>\n",
       "      <td>2</td>\n",
       "      <td>7.0</td>\n",
       "      <td>8/09/2016</td>\n",
       "      <td>1500000</td>\n",
       "      <td>microempresarial</td>\n",
       "    </tr>\n",
       "    <tr>\n",
       "      <th>4</th>\n",
       "      <td>masculino</td>\n",
       "      <td>servicio</td>\n",
       "      <td>COMIDAS RAPIDAS</td>\n",
       "      <td>20 de julio</td>\n",
       "      <td>2</td>\n",
       "      <td>13.0</td>\n",
       "      <td>20/12/2016</td>\n",
       "      <td>3000000</td>\n",
       "      <td>microempresarial</td>\n",
       "    </tr>\n",
       "  </tbody>\n",
       "</table>\n",
       "</div>"
      ],
      "text/plain": [
       "        sexo tipo_de_emprendimiento       idea_negocio  \\\n",
       "0  masculino               COMERCIO        charcuteria   \n",
       "1  masculino               comercio  distribuidora de    \n",
       "2  masculino               comercio             tienda   \n",
       "3  masculino               servicio    organización y    \n",
       "4  masculino               servicio    COMIDAS RAPIDAS   \n",
       "\n",
       "                   barrio  estrato  comuna_ciudadano fecha_de_beneficio  \\\n",
       "0  manrique central no. 2        1               3.0         28/12/2017   \n",
       "1             santa lucia        2              12.0         16/03/2018   \n",
       "2                   belen        3              16.0         2018/02/14   \n",
       "3                 robledo        2               7.0          8/09/2016   \n",
       "4             20 de julio        2              13.0         20/12/2016   \n",
       "\n",
       "  monto_del_credito     línea_credito  \n",
       "0           7000000  microempresarial  \n",
       "1    $ 7,000,000.00  microempresarial  \n",
       "2           7800000  microempresarial  \n",
       "3           1500000  microempresarial  \n",
       "4           3000000  microempresarial  "
      ]
     },
     "execution_count": 159,
     "metadata": {},
     "output_type": "execute_result"
    }
   ],
   "source": [
    "df.head()"
   ]
  },
  {
   "cell_type": "code",
   "execution_count": 160,
   "metadata": {},
   "outputs": [
    {
     "data": {
      "text/plain": [
       "sexo                        0\n",
       "tipo_de_emprendimiento    102\n",
       "idea_negocio                0\n",
       "barrio                    102\n",
       "estrato                     0\n",
       "comuna_ciudadano            0\n",
       "fecha_de_beneficio          0\n",
       "monto_del_credito           0\n",
       "línea_credito               0\n",
       "dtype: int64"
      ]
     },
     "execution_count": 160,
     "metadata": {},
     "output_type": "execute_result"
    }
   ],
   "source": [
    "df.isna().sum(axis=\"index\")"
   ]
  },
  {
   "cell_type": "code",
   "execution_count": 161,
   "metadata": {},
   "outputs": [],
   "source": [
    "df.dropna(inplace=True)"
   ]
  },
  {
   "cell_type": "markdown",
   "metadata": {},
   "source": [
    "# primera limpieza"
   ]
  },
  {
   "cell_type": "code",
   "execution_count": 162,
   "metadata": {},
   "outputs": [
    {
     "data": {
      "text/plain": [
       "femenino     6927\n",
       "masculino    3789\n",
       "Name: sexo, dtype: int64"
      ]
     },
     "execution_count": 162,
     "metadata": {},
     "output_type": "execute_result"
    }
   ],
   "source": [
    "df[\"sexo\"] = df[\"sexo\"].str.lower()\n",
    "\n",
    "df[\"sexo\"].value_counts()"
   ]
  },
  {
   "cell_type": "code",
   "execution_count": 163,
   "metadata": {},
   "outputs": [
    {
     "data": {
      "text/plain": [
       "comercio        5935\n",
       "servicio        2311\n",
       "industria       2296\n",
       "agropecuaria     174\n",
       "Name: tipo_de_emprendimiento, dtype: int64"
      ]
     },
     "execution_count": 163,
     "metadata": {},
     "output_type": "execute_result"
    }
   ],
   "source": [
    "df[\"tipo_de_emprendimiento\"] = df[\"tipo_de_emprendimiento\"].str.lower()\n",
    "\n",
    "df[\"tipo_de_emprendimiento\"].value_counts()"
   ]
  },
  {
   "cell_type": "code",
   "execution_count": 164,
   "metadata": {},
   "outputs": [
    {
     "data": {
      "text/plain": [
       "fabrica de               1933\n",
       "variedades               1768\n",
       "tienda                   1037\n",
       "comidas rapidas          1012\n",
       "peluqueria                605\n",
       "                         ... \n",
       "lenceria para el            5\n",
       "alquiler de peliculas       5\n",
       "venta de                    4\n",
       "fabrica de traperos         3\n",
       "pañalera                    2\n",
       "Name: idea_negocio, Length: 75, dtype: int64"
      ]
     },
     "execution_count": 164,
     "metadata": {},
     "output_type": "execute_result"
    }
   ],
   "source": [
    "df[\"idea_negocio\"] = df[\"idea_negocio\"].str.lower()\n",
    "df[\"idea_negocio\"] = df[\"idea_negocio\"].str.replace(r\"[\\-_]\", \" \", regex=True)\n",
    "\n",
    "df[\"idea_negocio\"].value_counts()"
   ]
  },
  {
   "cell_type": "code",
   "execution_count": 165,
   "metadata": {},
   "outputs": [
    {
     "data": {
      "text/plain": [
       "robledo                   1044\n",
       "manrique central no. 1     510\n",
       "san javier no.1            449\n",
       "aranjuez                   407\n",
       "belen                      398\n",
       "                          ... \n",
       "brasilia                     1\n",
       "barrio colombia              1\n",
       "san isidro                   1\n",
       "fatima                       1\n",
       "los angeles                  1\n",
       "Name: barrio, Length: 225, dtype: int64"
      ]
     },
     "execution_count": 165,
     "metadata": {},
     "output_type": "execute_result"
    }
   ],
   "source": [
    "df[\"barrio\"] = df[\"barrio\"].str.lower()\n",
    "df[\"barrio\"] = df[\"barrio\"].str.replace(r\"[\\-_]\", \" \", regex=True)\n",
    "\n",
    "df[\"barrio\"].value_counts()"
   ]
  },
  {
   "cell_type": "code",
   "execution_count": 166,
   "metadata": {},
   "outputs": [
    {
     "data": {
      "text/plain": [
       "2    5283\n",
       "3    3298\n",
       "1    2132\n",
       "0       3\n",
       "Name: estrato, dtype: int64"
      ]
     },
     "execution_count": 166,
     "metadata": {},
     "output_type": "execute_result"
    }
   ],
   "source": [
    "df[\"estrato\"].value_counts()"
   ]
  },
  {
   "cell_type": "code",
   "execution_count": 167,
   "metadata": {},
   "outputs": [
    {
     "data": {
      "text/plain": [
       "4.0     1401\n",
       "7.0     1194\n",
       "9.0     1006\n",
       "1.0      878\n",
       "13.0     871\n",
       "8.0      760\n",
       "5.0      690\n",
       "2.0      665\n",
       "3.0      615\n",
       "6.0      588\n",
       "16.0     452\n",
       "60.0     417\n",
       "10.0     306\n",
       "80.0     280\n",
       "12.0     241\n",
       "15.0     201\n",
       "90.0      65\n",
       "70.0      32\n",
       "50.0      29\n",
       "14.0      15\n",
       "11.0      10\n",
       "Name: comuna_ciudadano, dtype: int64"
      ]
     },
     "execution_count": 167,
     "metadata": {},
     "output_type": "execute_result"
    }
   ],
   "source": [
    "df[\"comuna_ciudadano\"].value_counts()"
   ]
  },
  {
   "cell_type": "code",
   "execution_count": 168,
   "metadata": {},
   "outputs": [
    {
     "data": {
      "text/plain": [
       "2018-10-03    65\n",
       "2018-10-11    63\n",
       "2018-09-14    43\n",
       "2018-10-26    42\n",
       "2018-05-11    42\n",
       "              ..\n",
       "2016-09-17     1\n",
       "2017-08-05     1\n",
       "2019-01-02     1\n",
       "2016-01-27     1\n",
       "2016-01-05     1\n",
       "Name: fecha_de_beneficio, Length: 795, dtype: int64"
      ]
     },
     "execution_count": 168,
     "metadata": {},
     "output_type": "execute_result"
    }
   ],
   "source": [
    "import warnings\n",
    "warnings.filterwarnings(\"ignore\")\n",
    "\n",
    "pd.to_datetime(df[\"fecha_de_beneficio\"])\n",
    "df.loc[df[\"fecha_de_beneficio\"].str.match(r\"\\d{4}\\/\\d{2}\\/\\d{1,2}\") , \"fecha_de_beneficio\"] = pd.to_datetime(\n",
    "    df.loc[df[\"fecha_de_beneficio\"].str.match(r\"\\d{4}\\/\\d{2}\\/\\d{1,2}\") , \"fecha_de_beneficio\"],\n",
    "    format=\"%Y/%m/%d\"\n",
    ")\n",
    "\n",
    "df.loc[~df[\"fecha_de_beneficio\"].str.match(r\"\\d{4}\\/\\d{2}\\/\\d{1,2}\").fillna(True) , \"fecha_de_beneficio\"] = pd.to_datetime(\n",
    "    df.loc[~df[\"fecha_de_beneficio\"].str.match(r\"\\d{4}\\/\\d{2}\\/\\d{1,2}\").fillna(True) , \"fecha_de_beneficio\"],\n",
    "    format=\"%d/%m/%Y\"\n",
    ")\n",
    "\n",
    "df[\"fecha_de_beneficio\"].value_counts()"
   ]
  },
  {
   "cell_type": "code",
   "execution_count": 169,
   "metadata": {},
   "outputs": [
    {
     "data": {
      "text/plain": [
       "7800000.0     1232\n",
       "5000000.0     1101\n",
       "7000000.0     1098\n",
       "6000000.0      995\n",
       "4000000.0      802\n",
       "              ... \n",
       "6430800.0        1\n",
       "17100000.0       1\n",
       "7860000.0        1\n",
       "6690000.0        1\n",
       "251102.0         1\n",
       "Name: monto_del_credito, Length: 277, dtype: int64"
      ]
     },
     "execution_count": 169,
     "metadata": {},
     "output_type": "execute_result"
    }
   ],
   "source": [
    "df[\"monto_del_credito\"] = df[\"monto_del_credito\"].str.replace(r\"[$,]\", \"\", regex=True)\n",
    "df[\"monto_del_credito\"] = pd.to_numeric(df[\"monto_del_credito\"])\n",
    "\n",
    "df[\"monto_del_credito\"].value_counts()"
   ]
  },
  {
   "cell_type": "code",
   "execution_count": 170,
   "metadata": {},
   "outputs": [
    {
     "data": {
      "text/plain": [
       "microempresarial          10522\n",
       "empresarial ed.              72\n",
       "agropecuaria                 58\n",
       "juridica y cap.semilla       33\n",
       "credioportuno                23\n",
       "fomento agropecuario          5\n",
       "solidaria                     1\n",
       "soli diaria                   1\n",
       "ayacucho formal               1\n",
       "Name: línea_credito, dtype: int64"
      ]
     },
     "execution_count": 170,
     "metadata": {},
     "output_type": "execute_result"
    }
   ],
   "source": [
    "df[\"línea_credito\"] = df[\"línea_credito\"].str.lower()\n",
    "df[\"línea_credito\"] = df[\"línea_credito\"].str.replace(r\"[\\-_]\", \" \", regex=True)\n",
    "\n",
    "df[\"línea_credito\"].value_counts()"
   ]
  },
  {
   "cell_type": "markdown",
   "metadata": {},
   "source": [
    "# segunda limpieza"
   ]
  },
  {
   "cell_type": "code",
   "execution_count": 174,
   "metadata": {},
   "outputs": [],
   "source": [
    "df.drop_duplicates(inplace=True)"
   ]
  },
  {
   "cell_type": "code",
   "execution_count": 175,
   "metadata": {},
   "outputs": [
    {
     "name": "stdout",
     "output_type": "stream",
     "text": [
      "sexo: 10206\n",
      "tipo_de_emprendimiento: 10206\n",
      "idea_negocio: 10206\n",
      "barrio: 10206\n",
      "estrato: 10206\n",
      "comuna_ciudadano: 10206\n",
      "fecha_de_beneficio: 10206\n",
      "monto_del_credito: 10206\n",
      "línea_credito: 10206\n"
     ]
    }
   ],
   "source": [
    "for col in df.columns:\n",
    "    print(f\"{col}: {df[col].value_counts().sum()}\")\n",
    "\n",
    "# deben sumar 10206"
   ]
  },
  {
   "cell_type": "code",
   "execution_count": 176,
   "metadata": {},
   "outputs": [
    {
     "data": {
      "text/plain": [
       "780.0      3\n",
       "6.0        1\n",
       "2000.0     1\n",
       "60.0       1\n",
       "700.0      1\n",
       "36.0       1\n",
       "2.0        1\n",
       "14.0       1\n",
       "10.0       1\n",
       "7.0        1\n",
       "43000.0    1\n",
       "Name: monto_del_credito, dtype: int64"
      ]
     },
     "execution_count": 176,
     "metadata": {},
     "output_type": "execute_result"
    }
   ],
   "source": [
    "df.query(\"monto_del_credito < 100000\")[\"monto_del_credito\"].value_counts()\n",
    "\n",
    "# a pesar de que estos valores de credito no tienen sentido, no se pueden eliminar ya que al hacer el value_counts \n",
    "# la serie resultante tendria menos registros de los que tiene el test"
   ]
  }
 ],
 "metadata": {
  "kernelspec": {
   "display_name": "Python 3.9.13 ('base')",
   "language": "python",
   "name": "python3"
  },
  "language_info": {
   "codemirror_mode": {
    "name": "ipython",
    "version": 3
   },
   "file_extension": ".py",
   "mimetype": "text/x-python",
   "name": "python",
   "nbconvert_exporter": "python",
   "pygments_lexer": "ipython3",
   "version": "3.9.13"
  },
  "orig_nbformat": 4,
  "vscode": {
   "interpreter": {
    "hash": "ad2bdc8ecc057115af97d19610ffacc2b4e99fae6737bb82f5d7fb13d2f2c186"
   }
  }
 },
 "nbformat": 4,
 "nbformat_minor": 2
}
